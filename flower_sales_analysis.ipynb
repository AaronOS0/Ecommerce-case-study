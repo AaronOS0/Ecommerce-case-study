{
 "cells": [
  {
   "cell_type": "markdown",
   "metadata": {
    "collapsed": true,
    "pycharm": {
     "name": "#%% md\n"
    }
   },
   "source": [
    "# Flower sales data Modelling and Analysis\n",
    "Aims:\n",
    "1. User Portrait\n",
    "2. User life cycle value"
   ]
  },
  {
   "cell_type": "markdown",
   "source": [
    "## 1. Data Overview"
   ],
   "metadata": {
    "collapsed": false,
    "pycharm": {
     "name": "#%% md\n"
    }
   }
  },
  {
   "cell_type": "code",
   "execution_count": 1,
   "outputs": [],
   "source": [
    "# Import packages\n",
    "\n",
    "## Basic data processing\n",
    "import numpy as np\n",
    "import pandas as pd\n",
    "\n",
    "## Data Visualization\n",
    "import seaborn as sns\n",
    "import matplotlib.pyplot as plt\n",
    "\n",
    "%matplotlib inline\n",
    "\n",
    "import plotly.graph_objects as go\n",
    "import plotly.express as px\n",
    "from plotly.subplots import make_subplots\n",
    "\n",
    "## Settings\n",
    "pd.set_option('display.max_columns', 500) # Able to display more columns."
   ],
   "metadata": {
    "collapsed": false,
    "pycharm": {
     "name": "#%%\n"
    }
   }
  },
  {
   "cell_type": "markdown",
   "source": [
    "### 1.1. Load data"
   ],
   "metadata": {
    "collapsed": false,
    "pycharm": {
     "name": "#%% md\n"
    }
   }
  },
  {
   "cell_type": "code",
   "execution_count": 7,
   "outputs": [
    {
     "name": "stdout",
     "output_type": "stream",
     "text": [
      "<class 'pandas.core.frame.DataFrame'>\n",
      "RangeIndex: 87180 entries, 0 to 87179\n",
      "Data columns (total 7 columns):\n",
      " #   Column       Non-Null Count  Dtype  \n",
      "---  ------       --------------  -----  \n",
      " 0   orderID      87180 non-null  object \n",
      " 1   productCode  87180 non-null  object \n",
      " 2   dateTime     87180 non-null  object \n",
      " 3   amount       87180 non-null  int64  \n",
      " 4   unitPrice    87180 non-null  float64\n",
      " 5   userID       87180 non-null  int64  \n",
      " 6   city         87180 non-null  object \n",
      "dtypes: float64(1), int64(2), object(4)\n",
      "memory usage: 4.7+ MB\n"
     ]
    }
   ],
   "source": [
    "# Load the dataset\n",
    "data_df = pd.read_csv(\"xianhua_data.csv\", header=1)\n",
    "data_df.info() # show entries, dtypes, memory usage."
   ],
   "metadata": {
    "collapsed": false,
    "pycharm": {
     "name": "#%%\n"
    }
   }
  },
  {
   "cell_type": "code",
   "execution_count": 10,
   "outputs": [
    {
     "data": {
      "text/plain": "  orderID productCode       dateTime  amount  unitPrice  userID      city\n0  536374       21258  6/1/2020 9:09      32      10.95   15100   Beijing\n1  536376       22114  6/1/2020 9:32      48       3.45   15291  Shanghai\n2  536376       21733  6/1/2020 9:32      64       2.55   15291  Shanghai\n3  536378       22386  6/1/2020 9:37      10       1.95   14688   Beijing\n4  536378      85099C  6/1/2020 9:37      10       1.95   14688   Beijing",
      "text/html": "<div>\n<style scoped>\n    .dataframe tbody tr th:only-of-type {\n        vertical-align: middle;\n    }\n\n    .dataframe tbody tr th {\n        vertical-align: top;\n    }\n\n    .dataframe thead th {\n        text-align: right;\n    }\n</style>\n<table border=\"1\" class=\"dataframe\">\n  <thead>\n    <tr style=\"text-align: right;\">\n      <th></th>\n      <th>orderID</th>\n      <th>productCode</th>\n      <th>dateTime</th>\n      <th>amount</th>\n      <th>unitPrice</th>\n      <th>userID</th>\n      <th>city</th>\n    </tr>\n  </thead>\n  <tbody>\n    <tr>\n      <th>0</th>\n      <td>536374</td>\n      <td>21258</td>\n      <td>6/1/2020 9:09</td>\n      <td>32</td>\n      <td>10.95</td>\n      <td>15100</td>\n      <td>Beijing</td>\n    </tr>\n    <tr>\n      <th>1</th>\n      <td>536376</td>\n      <td>22114</td>\n      <td>6/1/2020 9:32</td>\n      <td>48</td>\n      <td>3.45</td>\n      <td>15291</td>\n      <td>Shanghai</td>\n    </tr>\n    <tr>\n      <th>2</th>\n      <td>536376</td>\n      <td>21733</td>\n      <td>6/1/2020 9:32</td>\n      <td>64</td>\n      <td>2.55</td>\n      <td>15291</td>\n      <td>Shanghai</td>\n    </tr>\n    <tr>\n      <th>3</th>\n      <td>536378</td>\n      <td>22386</td>\n      <td>6/1/2020 9:37</td>\n      <td>10</td>\n      <td>1.95</td>\n      <td>14688</td>\n      <td>Beijing</td>\n    </tr>\n    <tr>\n      <th>4</th>\n      <td>536378</td>\n      <td>85099C</td>\n      <td>6/1/2020 9:37</td>\n      <td>10</td>\n      <td>1.95</td>\n      <td>14688</td>\n      <td>Beijing</td>\n    </tr>\n  </tbody>\n</table>\n</div>"
     },
     "execution_count": 10,
     "metadata": {},
     "output_type": "execute_result"
    }
   ],
   "source": [
    "# Have a look\n",
    "data_df.head(5)"
   ],
   "metadata": {
    "collapsed": false,
    "pycharm": {
     "name": "#%%\n"
    }
   }
  },
  {
   "cell_type": "markdown",
   "source": [
    "### 1.2. Data Type"
   ],
   "metadata": {
    "collapsed": false,
    "pycharm": {
     "name": "#%% md\n"
    }
   }
  },
  {
   "cell_type": "code",
   "execution_count": null,
   "outputs": [],
   "source": [],
   "metadata": {
    "collapsed": false,
    "pycharm": {
     "name": "#%%\n"
    }
   }
  }
 ],
 "metadata": {
  "kernelspec": {
   "display_name": "Python 3",
   "language": "python",
   "name": "python3"
  },
  "language_info": {
   "codemirror_mode": {
    "name": "ipython",
    "version": 2
   },
   "file_extension": ".py",
   "mimetype": "text/x-python",
   "name": "python",
   "nbconvert_exporter": "python",
   "pygments_lexer": "ipython2",
   "version": "2.7.6"
  }
 },
 "nbformat": 4,
 "nbformat_minor": 0
}